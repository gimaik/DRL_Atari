{
 "cells": [
  {
   "cell_type": "code",
   "execution_count": 1,
   "metadata": {},
   "outputs": [
    {
     "name": "stderr",
     "output_type": "stream",
     "text": [
      "Using TensorFlow backend.\n"
     ]
    }
   ],
   "source": [
    "import gym\n",
    "import math\n",
    "import random\n",
    "import keras\n",
    "import os\n",
    "import tensorflow as tf\n",
    "import numpy as np\n",
    "import scipy as sp\n",
    "import sklearn as sk\n",
    "import matplotlib as mpl\n",
    "import matplotlib.pyplot as plt\n",
    "\n",
    "from IPython.display import clear_output\n",
    "from tqdm import tqdm\n",
    "from skimage.color import rgb2gray\n",
    "from skimage.transform import rescale\n",
    "from keras.models import Sequential, load_model\n",
    "from keras.layers import *\n",
    "from keras.optimizers import *\n",
    "from keras.callbacks import *\n",
    "from keras import backend as K\n",
    "%matplotlib inline"
   ]
  },
  {
   "cell_type": "code",
   "execution_count": 2,
   "metadata": {},
   "outputs": [],
   "source": [
    "# Setting Global Parameters\n",
    "\n",
    "class DQN_Agent(): \n",
    "    \n",
    "    def __init__(self, num_state, num_action, params):\n",
    "        \n",
    "        self.params =  params\n",
    "        self.num_state = num_state\n",
    "        self.num_action = num_action\n",
    "        self.steps = 0        \n",
    "        self.gamma = params['gamma']   \n",
    "        self.eps_min = params['eps_min']\n",
    "        self.eps_max = params['eps_max']\n",
    "        self.eps = params['eps_max']\n",
    "        self.decay = params['decay']\n",
    "        self.learning_rate = params['lr']\n",
    "        self.batch_size = params['batch_size']\n",
    "        self.capacity = params['capacity']\n",
    "        self.load_model = params['load_model']\n",
    "        self.freq_target = params['freq_target']\n",
    "        self.model = self._create_model(load = self.load_model)\n",
    "        self.target_model= self._create_model(load = self.load_model)\n",
    "        self.memory=[]\n",
    "        \n",
    "    # Model OK    \n",
    "    def _create_model(self, load = False):\n",
    "        \n",
    "        def huber_loss(y_true, y_pred, in_keras=True):\n",
    "            err = y_true - y_pred\n",
    "            delta = 2.0\n",
    "            quadratic_term = 0.5 * err**2\n",
    "            linear_term = delta*(abs(err) - 0.5*delta)\n",
    "            use_linear_term = (abs(err) > 1.0)\n",
    "            \n",
    "            if in_keras:\n",
    "                use_linear_term = K.cast(use_linear_term, 'float32')\n",
    "            #return use_linear_term * linear_term + (1-use_linear_term) * quadratic_term\n",
    "            return quadratic_term\n",
    "            \n",
    "        if not load:\n",
    "            model =  Sequential()\n",
    "\n",
    "            model.add(Conv2D(input_shape = self.num_state, filters = 32, \n",
    "                             kernel_size = 8, strides=2, \n",
    "                             activation = 'relu'))\n",
    "\n",
    "            model.add(Conv2D(filters = 64, kernel_size = 4, strides=2, \n",
    "                             activation = 'relu'))\n",
    "\n",
    "            model.add(Conv2D(filters = 64, kernel_size = 2, strides=1,\n",
    "                             activation = 'relu'))\n",
    "\n",
    "            model.add(Flatten()) \n",
    "            model.add(Dense(units=512, kernel_initializer='glorot_normal',\n",
    "                            activation = 'relu')) \n",
    "            model.add(Dense(self.num_action))              \n",
    "\n",
    "            optimizer = Adam(lr = self.learning_rate)\n",
    "            model.compile(optimizer = optimizer, loss = huber_loss)\n",
    "\n",
    "            print(\"Model constructed...\", end =\"\\r\", flush=True)\n",
    "        else: \n",
    "            model = load_model('dqn-atari.h5', custom_objects={'huber_loss' : huber_loss})\n",
    "            print(\"Model loaded...\", end =\"\\r\", flush=True)\n",
    "        \n",
    "        return model   \n",
    "    \n",
    "    def update_target_model(self):\n",
    "        self.target_model.set_weights(self.model.get_weights())\n",
    "    \n",
    "    # Check OK\n",
    "    def predict(self, state):        \n",
    "        if len(state.shape) == 3:\n",
    "            state = np.expand_dims(state, axis=0)\n",
    "        return self.model.predict(state)\n",
    "    \n",
    "    def predict_target(self, state):        \n",
    "        if len(state.shape) == 3:\n",
    "            state = np.expand_dims(state, axis=0)\n",
    "        return self.target_model.predict(state)\n",
    "    \n",
    "    # Check OK\n",
    "    def observe(self, state, action, next_state, reward, done):\n",
    "        self.memory.append((state, action, next_state, reward, done))    \n",
    "        \n",
    "        if len(self.memory) > self.capacity:\n",
    "            self.memory.pop(0)\n",
    "    \n",
    "        self.eps = self.eps_min + (self.eps_max - self.eps_min) * math.exp(-self.steps * self.decay)        \n",
    "        self.steps +=1 \n",
    "        \n",
    "        if self.steps % self.freq_target ==0:\n",
    "            self.update_target_model()\n",
    "        \n",
    "    # Check OK    \n",
    "    def act(self, state):      \n",
    "        if np.random.rand() < self.eps:\n",
    "            return np.random.choice(self.num_action)\n",
    "        else:            \n",
    "            return np.argmax(self.predict(state))                 \n",
    "    \n",
    "    def replay(self):                \n",
    "        batch_len = min(self.batch_size, len(self.memory))        \n",
    "        batch = np.array(random.sample(self.memory, batch_len))        \n",
    "        \n",
    "        state = np.array([episode[0] for episode in batch])\n",
    "        action =  np.array([episode[1] for episode in batch])\n",
    "        next_state = np.array([episode[2] for episode in batch])\n",
    "        reward =  np.array([episode[3] for episode in batch])\n",
    "        done = np.array([episode[4] for episode in batch])\n",
    "        \n",
    "        q = np.array(self.predict(state))\n",
    "        q_ = np.array(self.predict_target(next_state))\n",
    "        \n",
    "        for i in range(batch_len):\n",
    "            q[i][action[i]] = reward[i]+ self.gamma*np.max(q_[i])* (1-done[i]) \n",
    "            \n",
    "        history = self.model.fit(state, q, \n",
    "                   verbose = 0, epochs=1, shuffle = False, batch_size = 32) \n",
    "        return history, np.mean(q, axis = 0)\n",
    "\n",
    "\n",
    "class input_pipeline():    \n",
    "    \n",
    "    def __init__(self, state):       \n",
    "        self.history_length = 4        \n",
    "        self.input_x=[]\n",
    "        self.input_x = [self._preprocess(state) for i in range(self.history_length)]\n",
    "        self.x = np.moveaxis(np.array(self.input_x), 0, -1) \n",
    "\n",
    "    def _preprocess(self, state):    \n",
    "        \n",
    "        state = np.mean(state, axis = 2).astype(np.uint8)\n",
    "        state = state[::2, ::2]\n",
    "        state = state[15:97,3:77]\n",
    "        state[state==162] = 80\n",
    "        state[state==180] = 90\n",
    "        state[state==198] = 100\n",
    "        state[state==200] = 110   \n",
    "        return state / 255\n",
    "    \n",
    "    def update(self, state):\n",
    "        self.input_x.pop(0)\n",
    "        self.input_x.append(self._preprocess(state))\n",
    "        self.x = np.moveaxis(np.array(self.input_x), 0, -1)\n",
    "    \n"
   ]
  },
  {
   "cell_type": "code",
   "execution_count": 3,
   "metadata": {},
   "outputs": [],
   "source": [
    "def main(train=True):\n",
    "    \n",
    "    env = gym.make('BreakoutDeterministic-v4')\n",
    "    env = gym.wrappers.Monitor(env, './tmp/breakout-2', force=True)\n",
    "    num_state = env.observation_space.shape    \n",
    "    num_action = env.action_space.n\n",
    "    \n",
    "    agent = DQN_Agent((82,74,4), num_action, params) \n",
    "    loss, mean_av, render = [], [], False    \n",
    "    \n",
    "    for episode in range(N_EPISODE):        \n",
    "        state, step, total_reward, done, render = env.reset(), 0, 0, False, False        \n",
    "        pipeline = input_pipeline(state)\n",
    "       \n",
    "        if episode > 5000:\n",
    "            render = True\n",
    "        \n",
    "        while not done:\n",
    "            if render:\n",
    "                env.render()\n",
    "                \n",
    "            state = pipeline.x\n",
    "            action = agent.act(state)            \n",
    "            next_state, reward, done, _ = env.step(action)  \n",
    "            \n",
    "            pipeline.update(next_state)\n",
    "            next_state = pipeline.x             \n",
    "            total_reward += reward\n",
    "            step +=1\n",
    "            \n",
    "            if train and step >= 4 :    \n",
    "                agent.observe(state, action, next_state, np.sign(reward), done)            \n",
    "                history, mean_action_value = agent.replay()\n",
    "                loss.append(history.history['loss'])\n",
    "                mean_av.append(np.mean(mean_action_value))                \n",
    "        \n",
    "        if episode % 10==0:\n",
    "            agent.model.save('dqn-atari.h5')\n",
    "        \n",
    "        print('Episode: {}/{}, Step: {}, Iteration: {}, Eps: {:.4f}, Reward: {}'\n",
    "              .format(episode+1, N_EPISODE, step, agent.steps, agent.eps, total_reward), \n",
    "              end = '\\r', flush = True) \n",
    "        \n",
    "    return np.array(loss), np.array(mean_av)           "
   ]
  },
  {
   "cell_type": "code",
   "execution_count": 4,
   "metadata": {},
   "outputs": [],
   "source": [
    "params = {}\n",
    "params['gamma'] = 0.99\n",
    "params['eps_min'] = 0.05\n",
    "params['eps_max'] = 1.00\n",
    "params['decay'] = 1e-5\n",
    "params['batch_size'] = 128\n",
    "params['lr'] = 0.00025\n",
    "params['capacity'] = 50000\n",
    "params['freq_target'] = 10000\n",
    "params['load_model'] = True"
   ]
  },
  {
   "cell_type": "code",
   "execution_count": null,
   "metadata": {
    "scrolled": true
   },
   "outputs": [
    {
     "data": {
      "image/png": "[encoded data removed]",
      "text/plain": [
       "<matplotlib.figure.Figure at 0x7fe9be532518>"
      ]
     },
     "metadata": {},
     "output_type": "display_data"
    }
   ],
   "source": [
    "x = np.array(range(1000000))\n",
    "y = params['eps_min'] + (params['eps_max']-params['eps_min'])*np.exp(-params['decay']*x)\n",
    "plt.plot(y)\n",
    "plt.title('$\\epsilon$ decay rate')\n",
    "plt.ylabel('epsilon')\n",
    "plt.xlabel('iteration')\n",
    "plt.show()"
   ]
  },
  {
   "cell_type": "code",
   "execution_count": null,
   "metadata": {
    "scrolled": true
   },
   "outputs": [
    {
     "name": "stderr",
     "output_type": "stream",
     "text": [
      "[2017-11-25 07:05:31,124] Making new env: BreakoutDeterministic-v4\n",
      "[2017-11-25 07:05:31,258] Clearing 2 monitor files from previous run (because force=True was provided)\n"
     ]
    },
    {
     "name": "stdout",
     "output_type": "stream",
     "text": [
      "Model loaded...\r"
     ]
    },
    {
     "name": "stderr",
     "output_type": "stream",
     "text": [
      "[2017-11-25 07:05:32,263] Starting new video recorder writing to /home/thomas/Projects/Reinforcement Learning/tmp/breakout-2/openaigym.video.0.4655.video000000.mp4\n"
     ]
    },
    {
     "name": "stdout",
     "output_type": "stream",
     "text": [
      "Episode: 1/10000000, Step: 180, Iteration: 177, Eps: 0.9983, Reward: 1.0\r"
     ]
    },
    {
     "name": "stderr",
     "output_type": "stream",
     "text": [
      "[2017-11-25 07:05:42,193] Starting new video recorder writing to /home/thomas/Projects/Reinforcement Learning/tmp/breakout-2/openaigym.video.0.4655.video000001.mp4\n"
     ]
    },
    {
     "name": "stdout",
     "output_type": "stream",
     "text": [
      "Episode: 8/10000000, Step: 132, Iteration: 1404, Eps: 0.9868, Reward: 0.0\r"
     ]
    },
    {
     "name": "stderr",
     "output_type": "stream",
     "text": [
      "[2017-11-25 07:07:10,259] Starting new video recorder writing to /home/thomas/Projects/Reinforcement Learning/tmp/breakout-2/openaigym.video.0.4655.video000008.mp4\n"
     ]
    },
    {
     "name": "stdout",
     "output_type": "stream",
     "text": [
      "Episode: 27/10000000, Step: 190, Iteration: 4807, Eps: 0.9554, Reward: 2.0\r"
     ]
    },
    {
     "name": "stderr",
     "output_type": "stream",
     "text": [
      "[2017-11-25 07:11:15,613] Starting new video recorder writing to /home/thomas/Projects/Reinforcement Learning/tmp/breakout-2/openaigym.video.0.4655.video000027.mp4\n"
     ]
    },
    {
     "name": "stdout",
     "output_type": "stream",
     "text": [
      "Episode: 64/10000000, Step: 126, Iteration: 11536, Eps: 0.8965, Reward: 0.0\r"
     ]
    },
    {
     "name": "stderr",
     "output_type": "stream",
     "text": [
      "[2017-11-25 07:19:17,618] Starting new video recorder writing to /home/thomas/Projects/Reinforcement Learning/tmp/breakout-2/openaigym.video.0.4655.video000064.mp4\n"
     ]
    },
    {
     "name": "stdout",
     "output_type": "stream",
     "text": [
      "Episode: 69/10000000, Step: 196, Iteration: 12462, Eps: 0.8887, Reward: 2.0\r"
     ]
    }
   ],
   "source": [
    "N_EPISODE = 10000000\n",
    "loss, mean_q = main(True)"
   ]
  },
  {
   "cell_type": "code",
   "execution_count": null,
   "metadata": {},
   "outputs": [],
   "source": [
    "plt.figure(figsize=(12,4))\n",
    "plt.subplot(1,2,1)\n",
    "plt.title('Loss')\n",
    "plt.xlabel('iteration')\n",
    "plt.ylabel('loss')\n",
    "plt.plot(loss)\n",
    "\n",
    "plt.subplot(1,2,2)\n",
    "plt.plot(mean_q)\n",
    "plt.title('Mean Q-Values')\n",
    "plt.xlabel('iteration')\n",
    "plt.ylabel('mean Q value')\n",
    "plt.show()"
   ]
  },
  {
   "cell_type": "code",
   "execution_count": null,
   "metadata": {},
   "outputs": [],
   "source": []
  },
  {
   "cell_type": "code",
   "execution_count": null,
   "metadata": {},
   "outputs": [],
   "source": []
  },
  {
   "cell_type": "raw",
   "metadata": {},
   "source": []
  }
 ],
 "metadata": {
  "kernelspec": {
   "display_name": "Python 3",
   "language": "python",
   "name": "python3"
  },
  "language_info": {
   "codemirror_mode": {
    "name": "ipython",
    "version": 3
   },
   "file_extension": ".py",
   "mimetype": "text/x-python",
   "name": "python",
   "nbconvert_exporter": "python",
   "pygments_lexer": "ipython3",
   "version": "3.5.2"
  }
 },
 "nbformat": 4,
 "nbformat_minor": 2
}
